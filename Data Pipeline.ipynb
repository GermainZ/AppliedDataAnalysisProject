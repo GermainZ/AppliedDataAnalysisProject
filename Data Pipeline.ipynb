{
 "cells": [
  {
   "cell_type": "markdown",
   "metadata": {},
   "source": [
    "When describing the data, in particular, you should show (non-exhaustive list):\n",
    "\n",
    "    That you can handle the data in its size.\n",
    "    That you understand what’s into the data (formats, distributions, missing values, correlations, etc.).\n",
    "    That you considered ways to enrich, filter, transform the data according to your needs.\n",
    "    That you have updated your plan in a reasonable way, reflecting your improved knowledge after data acquaintance. In particular, discuss how your data suits your project needs and discuss the methods you’re going to use, giving their essential mathematical details in the notebook.\n",
    "    That your plan for analysis and communication is now reasonable and sound, potentially discussing alternatives to your choices that you considered but dropped.\n"
   ]
  },
  {
   "cell_type": "markdown",
   "metadata": {},
   "source": [
    "# Milestone 2: Analyzing Success"
   ]
  },
  {
   "cell_type": "markdown",
   "metadata": {},
   "source": [
    "# 1. Data Retrieval \n",
    "- Git, Stackoverflow, Reddit\n",
    "- retrieving the data\n",
    "- load the data in a dataframe\n",
    "- store it in a proper way"
   ]
  },
  {
   "cell_type": "markdown",
   "metadata": {},
   "source": [
    "- [Gitential Datasets for Open Source Projects](https://github.com/gitential/datasets) (2.31 G): there is no unified dataset provided by Gitential (each repo's dataset is separate). We used a mixed Jupyter Notebook to extract all the datasets' links with a shell one-liner, and downloaded them with Python.\n",
    "\n",
    "- [GitHub API](https://developer.github.com/v3/) (G): to augment our datasets, we're also using this API (with the [PyGithub Python library](https://github.com/PyGithub/PyGithub)) to obtain additional information about the repos we're interested in. We use the API to get the number of stars, forks and stargazers of a project. We also use the API to get each project's issues (projects on GitHub can choose not to have an issues tracker).\n",
    "\n",
    "- [StackOverflow Posts data dump](https://archive.org/details/stackexchange) (G): we asked for this dataset to be downloaded on the EPFL server.\n",
    "\n",
    "- Reddit (G): ?"
   ]
  },
  {
   "cell_type": "markdown",
   "metadata": {},
   "source": [
    "# 2. Data Inspection\n",
    "- Description\n",
    "- format / type\n",
    "- distributions\n",
    "- missing values\n",
    "- correlations\n"
   ]
  },
  {
   "cell_type": "markdown",
   "metadata": {},
   "source": [
    "# 3. Data Preparation\n",
    "- Missing values handling\n",
    "- converting data type\n",
    "- filter / transform"
   ]
  },
  {
   "cell_type": "markdown",
   "metadata": {},
   "source": [
    "# 4. Plan Update\n",
    "- updated your plan in a reasonable way\n",
    "- reflecting your improved knowledge \n",
    "- discuss how your data suits your project needs\n",
    "- discuss the methods you’re going to use, giving their essential mathematical details\n",
    "- potentially discussing alternatives to your choices that you considered but dropped."
   ]
  },
  {
   "cell_type": "markdown",
   "metadata": {},
   "source": [
    "Stackoverflow\n",
    "- Tags\n",
    "- Response time\n",
    "- number of answers\n",
    "- number of positive and negative votes"
   ]
  }
 ],
 "metadata": {
  "kernelspec": {
   "display_name": "Python 3",
   "language": "python",
   "name": "python3"
  },
  "language_info": {
   "codemirror_mode": {
    "name": "ipython",
    "version": 3
   },
   "file_extension": ".py",
   "mimetype": "text/x-python",
   "name": "python",
   "nbconvert_exporter": "python",
   "pygments_lexer": "ipython3",
   "version": "3.6.7"
  }
 },
 "nbformat": 4,
 "nbformat_minor": 2
}
