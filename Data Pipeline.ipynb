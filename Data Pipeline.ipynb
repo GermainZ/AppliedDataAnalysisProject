{
 "cells": [
  {
   "cell_type": "markdown",
   "metadata": {},
   "source": [
    "When describing the data, in particular, you should show (non-exhaustive list):\n",
    "\n",
    "    That you can handle the data in its size.\n",
    "    That you understand what’s into the data (formats, distributions, missing values, correlations, etc.).\n",
    "    That you considered ways to enrich, filter, transform the data according to your needs.\n",
    "    That you have updated your plan in a reasonable way, reflecting your improved knowledge after data acquaintance. In particular, discuss how your data suits your project needs and discuss the methods you’re going to use, giving their essential mathematical details in the notebook.\n",
    "    That your plan for analysis and communication is now reasonable and sound, potentially discussing alternatives to your choices that you considered but dropped.\n"
   ]
  },
  {
   "cell_type": "markdown",
   "metadata": {},
   "source": [
    "# Milestone 2: Analyzing Success"
   ]
  },
  {
   "cell_type": "code",
   "execution_count": 2,
   "metadata": {},
   "outputs": [],
   "source": [
    "# Imports.\n",
    "import pandas as pd\n",
    "import numpy as np\n",
    "\n",
    "# Paths.\n",
    "DATASETS_DIR = './data/datasets'"
   ]
  },
  {
   "cell_type": "markdown",
   "metadata": {},
   "source": [
    "# 1. Data Retrieval "
   ]
  },
  {
   "cell_type": "markdown",
   "metadata": {},
   "source": [
    "The project datasets were retrieved from the following sources:\n",
    "\n",
    "- [Gitential Datasets for Open Source Projects (retrieved in January 2018)](https://github.com/gitential/datasets) (2.31 G): there is no unified dataset provided by Gitential (each repo's dataset is separate). We used a mixed Jupyter Notebook to extract all the datasets' links with a shell one-liner, and downloaded them with Python.\n",
    "\n",
    "- [GitHub API](https://developer.github.com/v3/) (? G): to augment our datasets, we're also using this API (with the [PyGithub Python library](https://github.com/PyGithub/PyGithub)) to obtain additional information about the repos we're interested in. We use the API to get the number of stars, forks and stargazers of a project. We also use the API to get each project's issues and each issue's comments (where applicable, since projects on GitHub can choose not to have an issues tracker).  \n",
    "**<span style=\"color:green\">(For implementation details, see `retrieve_additional_data_github.ipynb`)</span>**.\n",
    "\n",
    "- [StackOverflow Posts data dump](https://archive.org/details/stackexchange) (62 G): we asked for this dataset to be downloaded on the EPFL cluster.\n",
    "\n",
    "- [Reddit comments from 2005-12 to 2017-03](http://academictorrents.com/details/85a5bd50e4c365f8df70240ffd4ecc7dec59912b) (304 G): this dataset is available on the EPFL cluster."
   ]
  },
  {
   "cell_type": "markdown",
   "metadata": {},
   "source": [
    "# 2. Data Loading"
   ]
  },
  {
   "cell_type": "code",
   "execution_count": 3,
   "metadata": {},
   "outputs": [],
   "source": [
    "AMBIGUOUS_NAMES = {\n",
    "    'apache-incubator-superset': 'apache-incubator/superset',\n",
    "    'keras-team-keras': 'keras-team/keras',\n",
    "    'pandas-dev-pandas': 'pandas-dev/pandas',\n",
    "    'rust-lang-rust': 'rust-lang/rust',\n",
    "    'scikit-learn-scikit-learn': 'scikit-learn/scikit-learn'\n",
    "}\n",
    "DIR_GITHUB_MAPPING = {}\n",
    "\n",
    "for dir_name in os.listdir(DATASETS_DIR):\n",
    "    if dir_name in AMBIGUOUS_NAMES:\n",
    "        github_path = AMBIGUOUS_NAMES[dir_name]\n",
    "    else:\n",
    "        github_path = dir_name.replace('-', '/')\n",
    "    DIR_GITHUB_MAPPING[dir_name] = github_path"
   ]
  },
  {
   "cell_type": "code",
   "execution_count": 20,
   "metadata": {},
   "outputs": [],
   "source": [
    "commits = {}\n",
    "for dir_name, github_path in DIR_GITHUB_MAPPING.items():\n",
    "    commits[github_path] = pd.read_json('{}/{}/commits.json.gz'.format(DATASETS_DIR, dir_name))\n",
    "commits_df = pd.concat(commits, names=['project'])\n",
    "commits_df = commits_df.reset_index(level='project').reset_index(drop=True)"
   ]
  },
  {
   "cell_type": "code",
   "execution_count": 23,
   "metadata": {},
   "outputs": [
    {
     "data": {
      "text/html": [
       "<div>\n",
       "<style scoped>\n",
       "    .dataframe tbody tr th:only-of-type {\n",
       "        vertical-align: middle;\n",
       "    }\n",
       "\n",
       "    .dataframe tbody tr th {\n",
       "        vertical-align: top;\n",
       "    }\n",
       "\n",
       "    .dataframe thead th {\n",
       "        text-align: right;\n",
       "    }\n",
       "</style>\n",
       "<table border=\"1\" class=\"dataframe\">\n",
       "  <thead>\n",
       "    <tr style=\"text-align: right;\">\n",
       "      <th></th>\n",
       "      <th>project</th>\n",
       "      <th>age</th>\n",
       "      <th>author_email</th>\n",
       "      <th>author_email_dedup</th>\n",
       "      <th>author_name</th>\n",
       "      <th>author_name_dedup</th>\n",
       "      <th>author_time</th>\n",
       "      <th>committer_email</th>\n",
       "      <th>committer_email_dedup</th>\n",
       "      <th>committer_name</th>\n",
       "      <th>...</th>\n",
       "      <th>comp_i</th>\n",
       "      <th>delay</th>\n",
       "      <th>id</th>\n",
       "      <th>ismerge</th>\n",
       "      <th>loc_d</th>\n",
       "      <th>loc_i</th>\n",
       "      <th>message</th>\n",
       "      <th>ndiffs</th>\n",
       "      <th>nfiles</th>\n",
       "      <th>squashof</th>\n",
       "    </tr>\n",
       "  </thead>\n",
       "  <tbody>\n",
       "    <tr>\n",
       "      <th>0</th>\n",
       "      <td>Microsoft/CNTK</td>\n",
       "      <td>-1</td>\n",
       "      <td>do****@stggpu1.redmond.corp.microsoft.com</td>\n",
       "      <td>al*****@microsoft.com</td>\n",
       "      <td>unknown</td>\n",
       "      <td>Yinggong ZHAO</td>\n",
       "      <td>2014-07-29 10:12:20</td>\n",
       "      <td>do****@stggpu1.redmond.corp.microsoft.com</td>\n",
       "      <td>al*****@microsoft.com</td>\n",
       "      <td>unknown</td>\n",
       "      <td>...</td>\n",
       "      <td>0</td>\n",
       "      <td>0</td>\n",
       "      <td>bc9b0d6b0aebc469b2f84664de590b59d6fdf79f</td>\n",
       "      <td>False</td>\n",
       "      <td>0</td>\n",
       "      <td>0</td>\n",
       "      <td>test\\n</td>\n",
       "      <td>1</td>\n",
       "      <td>1</td>\n",
       "      <td>-1</td>\n",
       "    </tr>\n",
       "    <tr>\n",
       "      <th>1</th>\n",
       "      <td>Microsoft/CNTK</td>\n",
       "      <td>-1</td>\n",
       "      <td>do****@stggpu1.redmond.corp.microsoft.com</td>\n",
       "      <td>al*****@microsoft.com</td>\n",
       "      <td>unknown</td>\n",
       "      <td>Yinggong ZHAO</td>\n",
       "      <td>2014-08-29 16:21:42</td>\n",
       "      <td>do****@stggpu1.redmond.corp.microsoft.com</td>\n",
       "      <td>al*****@microsoft.com</td>\n",
       "      <td>unknown</td>\n",
       "      <td>...</td>\n",
       "      <td>248008</td>\n",
       "      <td>0</td>\n",
       "      <td>61694509551f38e031c74f3d9409b44fe50224cf</td>\n",
       "      <td>False</td>\n",
       "      <td>0</td>\n",
       "      <td>139349</td>\n",
       "      <td>First Release of CNTK\\n</td>\n",
       "      <td>1</td>\n",
       "      <td>492</td>\n",
       "      <td>-1</td>\n",
       "    </tr>\n",
       "    <tr>\n",
       "      <th>2</th>\n",
       "      <td>Microsoft/CNTK</td>\n",
       "      <td>-1</td>\n",
       "      <td>jd*****@microsoft.com</td>\n",
       "      <td>jd*****@microsoft.com</td>\n",
       "      <td>Jasha Droppo</td>\n",
       "      <td>Jasha Droppo</td>\n",
       "      <td>2014-08-31 12:27:42</td>\n",
       "      <td>jd*****@microsoft.com</td>\n",
       "      <td>jd*****@microsoft.com</td>\n",
       "      <td>Jasha Droppo</td>\n",
       "      <td>...</td>\n",
       "      <td>0</td>\n",
       "      <td>0</td>\n",
       "      <td>9515bfbd104a5ba4f4214e2d883e8e3af2acd01c</td>\n",
       "      <td>False</td>\n",
       "      <td>0</td>\n",
       "      <td>0</td>\n",
       "      <td>Added the ASR/TIMIT/decoding to ExampleSetups ...</td>\n",
       "      <td>1</td>\n",
       "      <td>6</td>\n",
       "      <td>-1</td>\n",
       "    </tr>\n",
       "    <tr>\n",
       "      <th>3</th>\n",
       "      <td>Microsoft/CNTK</td>\n",
       "      <td>-1</td>\n",
       "      <td>do****@microsoft.com</td>\n",
       "      <td>do****@microsoft.com</td>\n",
       "      <td>Dong Yu</td>\n",
       "      <td>Dong Yu</td>\n",
       "      <td>2014-09-01 14:43:21</td>\n",
       "      <td>do****@microsoft.com</td>\n",
       "      <td>do****@microsoft.com</td>\n",
       "      <td>Dong Yu</td>\n",
       "      <td>...</td>\n",
       "      <td>0</td>\n",
       "      <td>0</td>\n",
       "      <td>52eabc6e8852b6a8342ae304a606663f7f8ae15f</td>\n",
       "      <td>False</td>\n",
       "      <td>1</td>\n",
       "      <td>0</td>\n",
       "      <td>remove #include SimpleCNNBuilder.h\\n</td>\n",
       "      <td>1</td>\n",
       "      <td>1</td>\n",
       "      <td>-1</td>\n",
       "    </tr>\n",
       "  </tbody>\n",
       "</table>\n",
       "<p>4 rows × 23 columns</p>\n",
       "</div>"
      ],
      "text/plain": [
       "          project  age                               author_email  \\\n",
       "0  Microsoft/CNTK   -1  do****@stggpu1.redmond.corp.microsoft.com   \n",
       "1  Microsoft/CNTK   -1  do****@stggpu1.redmond.corp.microsoft.com   \n",
       "2  Microsoft/CNTK   -1                      jd*****@microsoft.com   \n",
       "3  Microsoft/CNTK   -1                       do****@microsoft.com   \n",
       "\n",
       "      author_email_dedup   author_name author_name_dedup         author_time  \\\n",
       "0  al*****@microsoft.com       unknown     Yinggong ZHAO 2014-07-29 10:12:20   \n",
       "1  al*****@microsoft.com       unknown     Yinggong ZHAO 2014-08-29 16:21:42   \n",
       "2  jd*****@microsoft.com  Jasha Droppo      Jasha Droppo 2014-08-31 12:27:42   \n",
       "3   do****@microsoft.com       Dong Yu           Dong Yu 2014-09-01 14:43:21   \n",
       "\n",
       "                             committer_email  committer_email_dedup  \\\n",
       "0  do****@stggpu1.redmond.corp.microsoft.com  al*****@microsoft.com   \n",
       "1  do****@stggpu1.redmond.corp.microsoft.com  al*****@microsoft.com   \n",
       "2                      jd*****@microsoft.com  jd*****@microsoft.com   \n",
       "3                       do****@microsoft.com   do****@microsoft.com   \n",
       "\n",
       "  committer_name   ...     comp_i delay  \\\n",
       "0        unknown   ...          0     0   \n",
       "1        unknown   ...     248008     0   \n",
       "2   Jasha Droppo   ...          0     0   \n",
       "3        Dong Yu   ...          0     0   \n",
       "\n",
       "                                         id  ismerge  loc_d   loc_i  \\\n",
       "0  bc9b0d6b0aebc469b2f84664de590b59d6fdf79f    False      0       0   \n",
       "1  61694509551f38e031c74f3d9409b44fe50224cf    False      0  139349   \n",
       "2  9515bfbd104a5ba4f4214e2d883e8e3af2acd01c    False      0       0   \n",
       "3  52eabc6e8852b6a8342ae304a606663f7f8ae15f    False      1       0   \n",
       "\n",
       "                                             message  ndiffs  nfiles squashof  \n",
       "0                                             test\\n       1       1       -1  \n",
       "1                            First Release of CNTK\\n       1     492       -1  \n",
       "2  Added the ASR/TIMIT/decoding to ExampleSetups ...       1       6       -1  \n",
       "3               remove #include SimpleCNNBuilder.h\\n       1       1       -1  \n",
       "\n",
       "[4 rows x 23 columns]"
      ]
     },
     "execution_count": 23,
     "metadata": {},
     "output_type": "execute_result"
    }
   ],
   "source": [
    "commits_df.head(4)"
   ]
  },
  {
   "cell_type": "markdown",
   "metadata": {},
   "source": [
    "# 3. Data Inspection\n",
    "- Description\n",
    "- format / type\n",
    "- distributions\n",
    "- missing values\n",
    "- correlations\n"
   ]
  },
  {
   "cell_type": "markdown",
   "metadata": {},
   "source": [
    "# 3. Data Preparation\n",
    "- remove redundant data (like HW1)\n",
    "- Missing values handling\n",
    "- converting data type\n",
    "- filter / transform"
   ]
  },
  {
   "cell_type": "markdown",
   "metadata": {},
   "source": [
    "# 4. Plan Update\n",
    "- updated your plan in a reasonable way\n",
    "- reflecting your improved knowledge \n",
    "- discuss how your data suits your project needs\n",
    "- discuss the methods you’re going to use, giving their essential mathematical details\n",
    "- potentially discussing alternatives to your choices that you considered but dropped."
   ]
  },
  {
   "cell_type": "markdown",
   "metadata": {},
   "source": [
    "Stackoverflow\n",
    "- Tags\n",
    "- Response time\n",
    "- number of answers\n",
    "- number of positive and negative votes"
   ]
  }
 ],
 "metadata": {
  "kernelspec": {
   "display_name": "Python 3",
   "language": "python",
   "name": "python3"
  },
  "language_info": {
   "codemirror_mode": {
    "name": "ipython",
    "version": 3
   },
   "file_extension": ".py",
   "mimetype": "text/x-python",
   "name": "python",
   "nbconvert_exporter": "python",
   "pygments_lexer": "ipython3",
   "version": "3.7.1"
  }
 },
 "nbformat": 4,
 "nbformat_minor": 2
}
