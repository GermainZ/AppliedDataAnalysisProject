{
 "cells": [
  {
   "cell_type": "code",
   "execution_count": 92,
   "metadata": {},
   "outputs": [],
   "source": [
    "import pandas as pd\n",
    "from github import Github\n",
    "from datetime import datetime\n",
    "import time\n",
    "from github.GithubException import RateLimitExceededException\n",
    "\n",
    "DATA_DIR = './data'\n",
    "DATASETS_DIR = './data/datasets'\n",
    "OAUTH_TOKEN = 'secret'"
   ]
  },
  {
   "cell_type": "code",
   "execution_count": 8,
   "metadata": {},
   "outputs": [],
   "source": [
    "g = Github(OAUTH_TOKEN)"
   ]
  },
  {
   "cell_type": "code",
   "execution_count": 106,
   "metadata": {},
   "outputs": [],
   "source": [
    "AMBIGUOUS_NAMES = {\n",
    "    'apache-incubator-superset': 'apache-incubator/superset',\n",
    "    'keras-team-keras': 'keras-team/keras',\n",
    "    'pandas-dev-pandas': 'pandas-dev/pandas',\n",
    "    'rust-lang-rust': 'rust-lang/rust',\n",
    "    'scikit-learn-scikit-learn': 'scikit-learn/scikit-learn'\n",
    "}\n",
    "DIR_GITHUB_MAPPING = {}\n",
    "\n",
    "for dir_name in os.listdir(DATASETS_DIR):\n",
    "    if dir_name in AMBIGUOUS_NAMES:\n",
    "        github_path = AMBIGUOUS_NAMES[dir_name]\n",
    "    else:\n",
    "        github_path = dir_name.replace('-', '/')\n",
    "    DIR_GITHUB_MAPPING[dir_name] = github_path"
   ]
  },
  {
   "cell_type": "code",
   "execution_count": 116,
   "metadata": {},
   "outputs": [],
   "source": [
    "issues_data = {}\n",
    "comments_data = {}\n",
    "\n",
    "descriptors = ['body', 'closed_at', 'comments', 'created_at', 'html_url', 'number', 'state', 'title', 'updated_at']\n",
    "comments_descriptors = ['body', 'created_at', 'updated_at']"
   ]
  },
  {
   "cell_type": "code",
   "execution_count": null,
   "metadata": {},
   "outputs": [
    {
     "name": "stdout",
     "output_type": "stream",
     "text": [
      "Fetching issues for pandas-dev/pandas\n",
      "Rate limit exceeded. Sleeping (time: 2018-11-25 00:48:16.554675)... (pandas-dev/pandas)\n",
      "Rate limit exceeded. Sleeping (time: 2018-11-25 01:47:02.831549)... (pandas-dev/pandas)\n"
     ]
    }
   ],
   "source": [
    "def extract_issue_data(issues_data, comments_data, issue, github_path):\n",
    "    for comment in issue.get_comments():\n",
    "        comment_data = {}\n",
    "        for descriptor in comments_descriptors:\n",
    "            comment_data[descriptor] = getattr(comment, descriptor)\n",
    "        comment_data['parent'] = issue.id\n",
    "        comments_data[comment.id] = comment_data\n",
    "    issue_data = {}\n",
    "    for descriptor in descriptors:\n",
    "        issue_data[descriptor] = getattr(issue, descriptor)\n",
    "    issue_data['closed_by'] = issue.closed_by.login if issue.closed_by else None\n",
    "    issue_data['user'] = issue.user.login\n",
    "    issue_data['assignee'] = issue.assignee.login if issue.assignee else None\n",
    "    issue_data['assignees'] = [user.login for user in issue.assignees] if issue.assignees else None\n",
    "    issue_data['labels'] = [label.name for label in issue.labels] if issue.labels else None\n",
    "    issue_data['milestone'] = issue.milestone.title if issue.milestone else None\n",
    "    issue_data['pull_request'] = issue.pull_request.html_url if issue.pull_request else None\n",
    "    issue_data['project'] = github_path\n",
    "    issues_data[issue.id] = issue_data\n",
    "\n",
    "for dir_name, github_path in DIR_GITHUB_MAPPING.items():\n",
    "    print('Fetching issues for {}'.format(github_path))\n",
    "    repo = g.get_repo(github_path)\n",
    "    for issue in repo.get_issues(state='all'):\n",
    "        success = False\n",
    "        while not success:\n",
    "            try:\n",
    "                if issue.id not in issues_data:\n",
    "                    extract_issue_data(issues_data, comments_data, issue, github_path)\n",
    "                success = True\n",
    "            except RateLimitExceededException as exc:\n",
    "                print('Rate limit exceeded. Sleeping (time: {})... ({})'.format(datetime.now(), github_path))\n",
    "                remaining = 0\n",
    "                while remaining < 4000:\n",
    "                    time.sleep(10 * 60)\n",
    "                    remaining = g.get_rate_limit().core.remaining\n",
    "            except GithubException as exc:\n",
    "                print(exc)\n",
    "                time.sleep(60)"
   ]
  },
  {
   "cell_type": "code",
   "execution_count": 109,
   "metadata": {},
   "outputs": [],
   "source": [
    "issues_df = pd.DataFrame.from_dict(issues_data, orient='index')"
   ]
  },
  {
   "cell_type": "code",
   "execution_count": 110,
   "metadata": {},
   "outputs": [],
   "source": [
    "comments_df = pd.DataFrame.from_dict(comments_data, orient='index')"
   ]
  },
  {
   "cell_type": "code",
   "execution_count": 111,
   "metadata": {},
   "outputs": [
    {
     "data": {
      "text/plain": [
       "pandas-dev/pandas    1963\n",
       "Name: html_url, dtype: int64"
      ]
     },
     "execution_count": 111,
     "metadata": {},
     "output_type": "execute_result"
    }
   ],
   "source": [
    "# Count number of retrieved issues from each project.\n",
    "issues_df.html_url.str.split('/').apply(lambda x: x[3] + '/' + x[4]).value_counts()"
   ]
  },
  {
   "cell_type": "code",
   "execution_count": 113,
   "metadata": {},
   "outputs": [],
   "source": [
    "comments_df.to_csv('data/github_comments.csv')\n",
    "issues_df.to_csv('data/github_issues.csv')"
   ]
  },
  {
   "cell_type": "code",
   "execution_count": null,
   "metadata": {},
   "outputs": [],
   "source": []
  }
 ],
 "metadata": {
  "kernelspec": {
   "display_name": "Python 3",
   "language": "python",
   "name": "python3"
  },
  "language_info": {
   "codemirror_mode": {
    "name": "ipython",
    "version": 3
   },
   "file_extension": ".py",
   "mimetype": "text/x-python",
   "name": "python",
   "nbconvert_exporter": "python",
   "pygments_lexer": "ipython3",
   "version": "3.7.1"
  }
 },
 "nbformat": 4,
 "nbformat_minor": 2
}
