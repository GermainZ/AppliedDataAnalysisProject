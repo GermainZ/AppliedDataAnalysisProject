{
 "cells": [
  {
   "cell_type": "markdown",
   "metadata": {},
   "source": [
    "**This notebook handles the retrieval of the Gitential datasets (our main dataset).** This is because the Gitential dataset is actually organized/split in several directories, with links to download the full dataset for each directory. (The dataset on the EPFL cluster only contains samples.)"
   ]
  },
  {
   "cell_type": "code",
   "execution_count": 6,
   "metadata": {},
   "outputs": [],
   "source": [
    "# Imports.\n",
    "import urllib.request\n",
    "import os\n",
    "import multiprocessing\n",
    "\n",
    "# Paths.\n",
    "DATA_DIR = './data'\n",
    "DATASETS_DIR = './data/datasets'"
   ]
  },
  {
   "cell_type": "code",
   "execution_count": 7,
   "metadata": {},
   "outputs": [],
   "source": [
    "# Extract all the URLs for the full datasets from each directory's README.\n",
    "# We use a shell command for this.\n",
    "datasets_urls = !find data/gitential_datasets_repo -mindepth 2 -name 'README.md' -exec grep '(https://s3' {} \\; | cut -d'|' -f3 | sed -E 's/.*(https.*)\\)/\\1/'"
   ]
  },
  {
   "cell_type": "code",
   "execution_count": 8,
   "metadata": {},
   "outputs": [
    {
     "name": "stdout",
     "output_type": "stream",
     "text": [
      "Retrieving pandas-dev-pandas/commits.json.gz\n",
      "Retrieving rust-lang-rust/blames.json.gz\n",
      "Retrieving apache-spark/commits.json.gz\n",
      "Retrieving Microsoft-CNTK/blames.json.gz\n",
      "Retrieving pandas-dev-pandas/patches.json.gz\n",
      "Retrieving apache-spark/patches.json.gz\n",
      "Retrieving Microsoft-CNTK/tags.json.gz\n",
      "Retrieving caffe2-caffe2/commits.json.gz\n",
      "Retrieving caffe2-caffe2/patches.json.gz\n",
      "Retrieving pandas-dev-pandas/blames.json.gz\n",
      "Retrieving caffe2-caffe2/blames.json.gz\n",
      "Retrieving caffe2-caffe2/tags.json.gz\n",
      "Retrieving tensorflow-tensorflow/commits.json.gz\n",
      "Retrieving pandas-dev-pandas/tags.json.gz\n",
      "Retrieving Microsoft-CNTK/commits.json.gz\n",
      "Retrieving tensorflow-tensorflow/patches.json.gz\n",
      "Retrieving Microsoft-CNTK/patches.json.gz\n",
      "Retrieving tensorflow-tensorflow/blames.json.gz\n",
      "Retrieving pytorch-pytorch/blames.json.gz\n",
      "Retrieving tensorflow-tensorflow/tags.json.gz\n",
      "Retrieving pytorch-pytorch/commits.json.gz\n",
      "Retrieving pytorch-pytorch/patches.json.gz\n",
      "Retrieving vuejs-vue/commits.json.gz\n",
      "Retrieving vuejs-vue/patches.json.gz\n",
      "Retrieving pytorch-pytorch/tags.json.gz\n",
      "Retrieving vuejs-vue/blames.json.gz\n",
      "Retrieving NervJS-nerv/commits.json.gz\n",
      "Retrieving NervJS-nerv/patches.json.gz\n",
      "Retrieving vuejs-vue/tags.json.gz\n",
      "Retrieving NervJS-nerv/blames.json.gz\n",
      "Retrieving apache-incubator-superset/commits.json.gz\n",
      "Retrieving NervJS-nerv/tags.json.gz\n",
      "Retrieving apache-incubator-superset/blames.json.gz\n",
      "Retrieving apache-incubator-superset/patches.json.gz\n",
      "Retrieving numpy-numpy/commits.json.gz\n",
      "Retrieving numpy-numpy/patches.json.gz\n",
      "Retrieving apache-incubator-superset/tags.json.gz\n",
      "Retrieving bitcoin-bitcoin/commits.json.gz\n",
      "Retrieving numpy-numpy/blames.json.gz\n",
      "Retrieving bitcoin-bitcoin/patches.json.gz\n",
      "Retrieving numpy-numpy/tags.json.gz\n",
      "Retrieving curl-curl/commits.json.gz\n",
      "Retrieving curl-curl/patches.json.gz\n",
      "Retrieving curl-curl/blames.json.gz\n",
      "Retrieving bitcoin-bitcoin/blames.json.gz\n",
      "Retrieving curl-curl/tags.json.gz\n",
      "Retrieving luna-luna/commits.json.gz\n",
      "Retrieving luna-luna/patches.json.gz\n",
      "Retrieving bitcoin-bitcoin/tags.json.gz\n",
      "Retrieving libgit2-libgit2/commits.json.gz\n",
      "Retrieving libgit2-libgit2/patches.json.gz\n",
      "Retrieving luna-luna/blames.json.gz\n",
      "Retrieving libgit2-libgit2/blames.json.gz\n",
      "Retrieving luna-luna/tags.json.gz\n",
      "Retrieving laravel-laravel/blames.json.gz\n",
      "Retrieving libgit2-libgit2/tags.json.gz\n",
      "Retrieving laravel-laravel/commits.json.gz\n",
      "Retrieving laravel-laravel/tags.json.gz\n",
      "Retrieving scikit-learn-scikit-learn/commits.json.gz\n",
      "Retrieving laravel-laravel/patches.json.gz\n",
      "Retrieving angular-angular/commits.json.gz\n",
      "Retrieving angular-angular/patches.json.gz\n",
      "Retrieving scikit-learn-scikit-learn/patches.json.gz\n",
      "Retrieving angular-angular/blames.json.gz\n",
      "Retrieving angular-angular/tags.json.gz\n",
      "Retrieving pallets-flask/commits.json.gz\n",
      "Retrieving apache-spark/blames.json.gz\n",
      "Retrieving pallets-flask/patches.json.gz\n",
      "Retrieving pallets-flask/blames.json.gz\n",
      "Retrieving scikit-learn-scikit-learn/blames.json.gz\n",
      "Retrieving pallets-flask/tags.json.gz\n",
      "Retrieving facebook-react/commits.json.gz\n",
      "Retrieving facebook-react/patches.json.gz\n",
      "Retrieving facebook-react/blames.json.gz\n",
      "Retrieving scikit-learn-scikit-learn/tags.json.gz\n",
      "Retrieving facebook-react/tags.json.gz\n",
      "Retrieving antirez-redis/commits.json.gz\n",
      "Retrieving git-git/blames.json.gz\n",
      "Retrieving antirez-redis/patches.json.gz\n",
      "Retrieving antirez-redis/blames.json.gz\n",
      "Retrieving antirez-redis/tags.json.gz\n",
      "Retrieving git-git/commits.json.gz\n",
      "Retrieving git-git/patches.json.gz\n",
      "Retrieving apache-spark/tags.json.gz\n",
      "Retrieving rust-lang-rust/commits.json.gz\n",
      "Retrieving rust-lang-rust/patches.json.gz\n",
      "Retrieving rust-lang-rust/tags.json.gz\n",
      "Retrieving apache-mesos/commits.json.gz\n",
      "Retrieving apache-mesos/patches.json.gz\n",
      "Retrieving apache-mesos/blames.json.gz\n",
      "Retrieving apache-mesos/tags.json.gz\n",
      "Retrieving git-git/tags.json.gz\n",
      "Retrieving keras-team-keras/commits.json.gz\n",
      "Retrieving keras-team-keras/patches.json.gz\n",
      "Retrieving keras-team-keras/blames.json.gz\n",
      "Retrieving keras-team-keras/tags.json.gz\n"
     ]
    }
   ],
   "source": [
    "def retrieve_dataset_from_url(url):\n",
    "    '''Download the given dataset in the appropriate directory.'''\n",
    "    _, _, _, _, project, dataset_name = url.split('/')\n",
    "    directory = '{}/{}'.format(DATASETS_DIR, project)\n",
    "    if not os.path.exists(directory):\n",
    "        os.makedirs(directory)\n",
    "    print('Retrieving {}/{}'.format(project, dataset_name))\n",
    "    urllib.request.urlretrieve(url, '{}/{}/{}'.format(DATASETS_DIR, project, dataset_name))\n",
    "\n",
    "# Download all datasets.\n",
    "with multiprocessing.Pool(4) as pool:\n",
    "    pool.map(retrieve_dataset_from_url, datasets_urls)"
   ]
  },
  {
   "cell_type": "code",
   "execution_count": null,
   "metadata": {},
   "outputs": [],
   "source": []
  }
 ],
 "metadata": {
  "kernelspec": {
   "display_name": "Python 3",
   "language": "python",
   "name": "python3"
  },
  "language_info": {
   "codemirror_mode": {
    "name": "ipython",
    "version": 3
   },
   "file_extension": ".py",
   "mimetype": "text/x-python",
   "name": "python",
   "nbconvert_exporter": "python",
   "pygments_lexer": "ipython3",
   "version": "3.7.1"
  }
 },
 "nbformat": 4,
 "nbformat_minor": 2
}
